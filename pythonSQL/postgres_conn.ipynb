{
 "cells": [
  {
   "cell_type": "code",
   "execution_count": 4,
   "metadata": {},
   "outputs": [],
   "source": [
    "# sudo apt-get install python3-dev default-libmysqlclient-dev build-essential pkg-config libpq-dev -y"
   ]
  },
  {
   "cell_type": "code",
   "execution_count": null,
   "metadata": {},
   "outputs": [],
   "source": [
    "from decouple import config\n",
    "import psycopg2\n",
    "\n",
    "POSTGRES_HOST = config('POSTGRES_HOST')\n",
    "POSTGRES_USER = config('POSTGRES_USER')\n",
    "POSTGRES_DB = config('POSTGRES_DB')\n",
    "POSTGRES_PASSWORD = config('POSTGRES_PASSWORD')\n",
    "POSTGRES_PORT=config('POSTGRES_PORT', default=5432)\n",
    "\n",
    "\n",
    "conn = psycopg2.connect(database=POSTGRES_DB,\n",
    "                        host=POSTGRES_HOST,\n",
    "                        user=POSTGRES_USER,\n",
    "                        password=POSTGRES_PASSWORD,\n",
    "                        port=POSTGRES_PORT)\n",
    "\n",
    "cursor = conn.cursor()\n",
    "cursor.execute('SELECT * FROM \"User\";')\n",
    "\n",
    "for i in cursor.fetchall(): print(i)\n"
   ]
  }
 ],
 "metadata": {
  "kernelspec": {
   "display_name": ".venv",
   "language": "python",
   "name": "python3"
  },
  "language_info": {
   "codemirror_mode": {
    "name": "ipython",
    "version": 3
   },
   "file_extension": ".py",
   "mimetype": "text/x-python",
   "name": "python",
   "nbconvert_exporter": "python",
   "pygments_lexer": "ipython3",
   "version": "3.12.3"
  }
 },
 "nbformat": 4,
 "nbformat_minor": 2
}
